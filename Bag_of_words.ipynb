{
 "cells": [
  {
   "cell_type": "code",
   "execution_count": 1,
   "id": "2f7dbb60",
   "metadata": {},
   "outputs": [],
   "source": [
    "import nltk"
   ]
  },
  {
   "cell_type": "code",
   "execution_count": 2,
   "id": "e5bedf59",
   "metadata": {},
   "outputs": [],
   "source": [
    "my_review = \"Serena’s brilliance and achievements and her legacy as the greatest tennis player ever is not, in my opinion, simply about her tournament record. Her legacy as the greatest is due to how she has, along with Venus, transformed the sport of tennis. Since they started playing professionally, more young African American girls and boys have picked up a tennis racquet. Children of colour would line up to watch the sisters play at tournaments and wait to get autographs after the game. Tennis courts sprang up in Harlem, New York — a bastion of African American life, culture and heritage. Naomi Osaka, the former world number one, who herself is bi-racial with a Haitian father and a Japanese mother, often points to Serena as her childhood tennis idol.\""
   ]
  },
  {
   "cell_type": "code",
   "execution_count": 3,
   "id": "d4343afb",
   "metadata": {},
   "outputs": [
    {
     "data": {
      "text/plain": [
       "'Serena’s brilliance and achievements and her legacy as the greatest tennis player ever is not, in my opinion, simply about her tournament record. Her legacy as the greatest is due to how she has, along with Venus, transformed the sport of tennis. Since they started playing professionally, more young African American girls and boys have picked up a tennis racquet. Children of colour would line up to watch the sisters play at tournaments and wait to get autographs after the game. Tennis courts sprang up in Harlem, New York — a bastion of African American life, culture and heritage. Naomi Osaka, the former world number one, who herself is bi-racial with a Haitian father and a Japanese mother, often points to Serena as her childhood tennis idol.'"
      ]
     },
     "execution_count": 3,
     "metadata": {},
     "output_type": "execute_result"
    }
   ],
   "source": [
    "my_review"
   ]
  },
  {
   "cell_type": "markdown",
   "id": "df373356",
   "metadata": {},
   "source": [
    "# Data Cleaning "
   ]
  },
  {
   "cell_type": "markdown",
   "id": "29e77919",
   "metadata": {},
   "source": [
    "## Stemming "
   ]
  },
  {
   "cell_type": "code",
   "execution_count": 4,
   "id": "e71d2876",
   "metadata": {},
   "outputs": [],
   "source": [
    "from nltk.stem import PorterStemmer"
   ]
  },
  {
   "cell_type": "code",
   "execution_count": 5,
   "id": "e58d59c9",
   "metadata": {},
   "outputs": [],
   "source": [
    "from nltk.corpus import stopwords"
   ]
  },
  {
   "cell_type": "code",
   "execution_count": 7,
   "id": "4014eeae",
   "metadata": {},
   "outputs": [
    {
     "data": {
      "text/plain": [
       "['Serena’s brilliance and achievements and her legacy as the greatest tennis player ever is not, in my opinion, simply about her tournament record.',\n",
       " 'Her legacy as the greatest is due to how she has, along with Venus, transformed the sport of tennis.',\n",
       " 'Since they started playing professionally, more young African American girls and boys have picked up a tennis racquet.',\n",
       " 'Children of colour would line up to watch the sisters play at tournaments and wait to get autographs after the game.',\n",
       " 'Tennis courts sprang up in Harlem, New York — a bastion of African American life, culture and heritage.',\n",
       " 'Naomi Osaka, the former world number one, who herself is bi-racial with a Haitian father and a Japanese mother, often points to Serena as her childhood tennis idol.']"
      ]
     },
     "execution_count": 7,
     "metadata": {},
     "output_type": "execute_result"
    }
   ],
   "source": [
    "sentence = nltk.sent_tokenize(my_review)\n",
    "sentence"
   ]
  },
  {
   "cell_type": "code",
   "execution_count": 10,
   "id": "3d229a01",
   "metadata": {},
   "outputs": [],
   "source": [
    "stemmer = PorterStemmer()"
   ]
  },
  {
   "cell_type": "code",
   "execution_count": 13,
   "id": "e3e9bad2",
   "metadata": {},
   "outputs": [],
   "source": [
    "for i in range(len(sentence)):\n",
    "    words = nltk.word_tokenize(sentence[i])\n",
    "    words = [stemmer.stem(word) for word in words if word not in set(stopwords.words('english'))]\n",
    "    sentence[i] = ' '.join(words)"
   ]
  },
  {
   "cell_type": "code",
   "execution_count": 14,
   "id": "b9560196",
   "metadata": {},
   "outputs": [
    {
     "data": {
      "text/plain": [
       "['serena ’ brillianc achiev legaci greatest tenni player ever , opinion , simpli tournament record .',\n",
       " 'her legaci greatest due , along venu , transform sport tenni .',\n",
       " 'sinc start play profession , young african american girl boy pick tenni racquet .',\n",
       " 'children colour would line watch sister play tournament wait get autograph game .',\n",
       " 'tenni court sprang harlem , new york — bastion african american life , cultur heritag .',\n",
       " 'naomi osaka , former world number one , bi-raci haitian father japanes mother , often point serena childhood tenni idol .']"
      ]
     },
     "execution_count": 14,
     "metadata": {},
     "output_type": "execute_result"
    }
   ],
   "source": [
    "sentence"
   ]
  },
  {
   "cell_type": "markdown",
   "id": "d390eec8",
   "metadata": {},
   "source": [
    "## Lemmitization "
   ]
  },
  {
   "cell_type": "code",
   "execution_count": 15,
   "id": "4e325a71",
   "metadata": {},
   "outputs": [],
   "source": [
    "from nltk.stem import WordNetLemmatizer"
   ]
  },
  {
   "cell_type": "code",
   "execution_count": 16,
   "id": "148a6972",
   "metadata": {},
   "outputs": [],
   "source": [
    "sentence1 = nltk.sent_tokenize(my_review)\n",
    "lemmatizer = WordNetLemmatizer()"
   ]
  },
  {
   "cell_type": "code",
   "execution_count": 20,
   "id": "449475ed",
   "metadata": {},
   "outputs": [],
   "source": [
    "for i in range(len(sentence1)):\n",
    "    words = nltk.word_tokenize(sentence1[i])\n",
    "    words = [lemmatizer.lemmatize(word) for word in words if word not in set(stopwords.words('english'))]\n",
    "    sentence1[i] = ' '.join(words)"
   ]
  },
  {
   "cell_type": "code",
   "execution_count": 21,
   "id": "267dac1f",
   "metadata": {},
   "outputs": [
    {
     "data": {
      "text/plain": [
       "['Serena ’ brilliance achievement legacy greatest tennis player ever , opinion , simply tournament record .',\n",
       " 'Her legacy greatest due , along Venus , transformed sport tennis .',\n",
       " 'Since started playing professionally , young African American girl boy picked tennis racquet .',\n",
       " 'Children colour would line watch sister play tournament wait get autograph game .',\n",
       " 'Tennis court sprang Harlem , New York — bastion African American life , culture heritage .',\n",
       " 'Naomi Osaka , former world number one , bi-racial Haitian father Japanese mother , often point Serena childhood tennis idol .']"
      ]
     },
     "execution_count": 21,
     "metadata": {},
     "output_type": "execute_result"
    }
   ],
   "source": [
    "sentence1"
   ]
  },
  {
   "cell_type": "markdown",
   "id": "4a83e5c1",
   "metadata": {},
   "source": [
    "## Bag of Words"
   ]
  },
  {
   "cell_type": "code",
   "execution_count": 22,
   "id": "d1a47295",
   "metadata": {},
   "outputs": [],
   "source": [
    "import re"
   ]
  },
  {
   "cell_type": "code",
   "execution_count": 25,
   "id": "79a50a04",
   "metadata": {},
   "outputs": [],
   "source": [
    "ps =PorterStemmer()\n",
    "wordnet = WordNetLemmatizer()\n",
    "sentences = nltk.sent_tokenize(my_review)\n",
    "corpus=[]\n",
    "\n",
    "for i in range(len(sentences)):\n",
    "    review = re.sub('[^a-zA-Z]',' ',sentences[i])\n",
    "    review = review.lower()\n",
    "    review = review.split()\n",
    "    review = [ps.stem(word) for word in review if not word in set(stopwords.words('english'))]\n",
    "    review = ' '.join(review)\n",
    "    corpus.append(review)"
   ]
  },
  {
   "cell_type": "code",
   "execution_count": 26,
   "id": "91c6c6e4",
   "metadata": {},
   "outputs": [
    {
     "data": {
      "text/plain": [
       "['serena brillianc achiev legaci greatest tenni player ever opinion simpli tournament record',\n",
       " 'legaci greatest due along venu transform sport tenni',\n",
       " 'sinc start play profession young african american girl boy pick tenni racquet',\n",
       " 'children colour would line watch sister play tournament wait get autograph game',\n",
       " 'tenni court sprang harlem new york bastion african american life cultur heritag',\n",
       " 'naomi osaka former world number one bi racial haitian father japanes mother often point serena childhood tenni idol']"
      ]
     },
     "execution_count": 26,
     "metadata": {},
     "output_type": "execute_result"
    }
   ],
   "source": [
    "corpus"
   ]
  },
  {
   "cell_type": "markdown",
   "id": "1eca2a1f",
   "metadata": {},
   "source": [
    "## Model Building -  Bag of Words"
   ]
  },
  {
   "cell_type": "code",
   "execution_count": 31,
   "id": "06e9bd49",
   "metadata": {},
   "outputs": [],
   "source": [
    "from sklearn.feature_extraction.text import CountVectorizer\n",
    "cv = CountVectorizer(max_features=500)\n",
    "x = cv.fit_transform(corpus).toarray()"
   ]
  },
  {
   "cell_type": "code",
   "execution_count": 32,
   "id": "9acd62f9",
   "metadata": {},
   "outputs": [
    {
     "data": {
      "text/plain": [
       "array([[1, 0, 0, 0, 0, 0, 0, 0, 1, 0, 0, 0, 0, 0, 0, 1, 0, 0, 0, 0, 0, 1,\n",
       "        0, 0, 0, 0, 0, 1, 0, 0, 0, 0, 0, 0, 0, 0, 1, 0, 0, 0, 1, 0, 0, 0,\n",
       "        0, 1, 1, 1, 0, 0, 0, 0, 0, 1, 1, 0, 0, 0, 0, 0, 0, 0, 0],\n",
       "       [0, 0, 1, 0, 0, 0, 0, 0, 0, 0, 0, 0, 0, 0, 1, 0, 0, 0, 0, 0, 0, 1,\n",
       "        0, 0, 0, 0, 0, 1, 0, 0, 0, 0, 0, 0, 0, 0, 0, 0, 0, 0, 0, 0, 0, 0,\n",
       "        0, 0, 0, 0, 0, 0, 1, 0, 0, 1, 0, 1, 1, 0, 0, 0, 0, 0, 0],\n",
       "       [0, 1, 0, 1, 0, 0, 0, 1, 0, 0, 0, 0, 0, 0, 0, 0, 0, 0, 0, 0, 1, 0,\n",
       "        0, 0, 0, 0, 0, 0, 0, 0, 0, 0, 0, 0, 0, 0, 0, 0, 1, 1, 0, 0, 1, 0,\n",
       "        1, 0, 0, 0, 1, 0, 0, 0, 1, 1, 0, 0, 0, 0, 0, 0, 0, 0, 1],\n",
       "       [0, 0, 0, 0, 1, 0, 0, 0, 0, 0, 1, 1, 0, 0, 0, 0, 0, 0, 1, 1, 0, 0,\n",
       "        0, 0, 0, 0, 0, 0, 0, 1, 0, 0, 0, 0, 0, 0, 0, 0, 0, 1, 0, 0, 0, 0,\n",
       "        0, 0, 0, 0, 0, 1, 0, 0, 0, 0, 1, 0, 0, 1, 1, 0, 1, 0, 0],\n",
       "       [0, 1, 0, 1, 0, 1, 0, 0, 0, 0, 0, 0, 1, 1, 0, 0, 0, 0, 0, 0, 0, 0,\n",
       "        0, 1, 1, 0, 0, 0, 1, 0, 0, 0, 1, 0, 0, 0, 0, 0, 0, 0, 0, 0, 0, 0,\n",
       "        0, 0, 0, 0, 0, 0, 0, 1, 0, 1, 0, 0, 0, 0, 0, 0, 0, 1, 0],\n",
       "       [0, 0, 0, 0, 0, 0, 1, 0, 0, 1, 0, 0, 0, 0, 0, 0, 1, 1, 0, 0, 0, 0,\n",
       "        1, 0, 0, 1, 1, 0, 0, 0, 1, 1, 0, 1, 1, 1, 0, 1, 0, 0, 0, 1, 0, 1,\n",
       "        0, 0, 1, 0, 0, 0, 0, 0, 0, 1, 0, 0, 0, 0, 0, 1, 0, 0, 0]],\n",
       "      dtype=int64)"
      ]
     },
     "execution_count": 32,
     "metadata": {},
     "output_type": "execute_result"
    }
   ],
   "source": [
    "x"
   ]
  },
  {
   "cell_type": "code",
   "execution_count": null,
   "id": "a5bb2bc9",
   "metadata": {},
   "outputs": [],
   "source": []
  }
 ],
 "metadata": {
  "kernelspec": {
   "display_name": "Python 3 (ipykernel)",
   "language": "python",
   "name": "python3"
  },
  "language_info": {
   "codemirror_mode": {
    "name": "ipython",
    "version": 3
   },
   "file_extension": ".py",
   "mimetype": "text/x-python",
   "name": "python",
   "nbconvert_exporter": "python",
   "pygments_lexer": "ipython3",
   "version": "3.9.7"
  }
 },
 "nbformat": 4,
 "nbformat_minor": 5
}
