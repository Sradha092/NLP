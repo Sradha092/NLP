{
 "cells": [
  {
   "cell_type": "code",
   "execution_count": 1,
   "id": "a50ee269",
   "metadata": {},
   "outputs": [
    {
     "data": {
      "text/plain": [
       "'C:\\\\Users\\\\SRADHA\\\\Desktop\\\\NLP'"
      ]
     },
     "execution_count": 1,
     "metadata": {},
     "output_type": "execute_result"
    }
   ],
   "source": [
    "import os\n",
    "os.getcwd()"
   ]
  },
  {
   "cell_type": "code",
   "execution_count": 2,
   "id": "4abdc3ad",
   "metadata": {},
   "outputs": [
    {
     "name": "stdout",
     "output_type": "stream",
     "text": [
      "Collecting gTTS\n",
      "  Downloading gTTS-2.2.4-py3-none-any.whl (26 kB)\n",
      "Requirement already satisfied: click in c:\\users\\sradha\\anaconda3\\lib\\site-packages (from gTTS) (8.0.3)\n",
      "Requirement already satisfied: requests in c:\\users\\sradha\\anaconda3\\lib\\site-packages (from gTTS) (2.26.0)\n",
      "Requirement already satisfied: six in c:\\users\\sradha\\anaconda3\\lib\\site-packages (from gTTS) (1.16.0)\n",
      "Requirement already satisfied: colorama in c:\\users\\sradha\\anaconda3\\lib\\site-packages (from click->gTTS) (0.4.4)\n",
      "Requirement already satisfied: idna<4,>=2.5 in c:\\users\\sradha\\anaconda3\\lib\\site-packages (from requests->gTTS) (3.2)\n",
      "Requirement already satisfied: charset-normalizer~=2.0.0 in c:\\users\\sradha\\anaconda3\\lib\\site-packages (from requests->gTTS) (2.0.4)\n",
      "Requirement already satisfied: certifi>=2017.4.17 in c:\\users\\sradha\\anaconda3\\lib\\site-packages (from requests->gTTS) (2021.10.8)\n",
      "Requirement already satisfied: urllib3<1.27,>=1.21.1 in c:\\users\\sradha\\anaconda3\\lib\\site-packages (from requests->gTTS) (1.26.7)\n",
      "Installing collected packages: gTTS\n",
      "Successfully installed gTTS-2.2.4\n",
      "Note: you may need to restart the kernel to use updated packages.\n"
     ]
    }
   ],
   "source": [
    "pip install gTTS"
   ]
  },
  {
   "cell_type": "code",
   "execution_count": 4,
   "id": "d980e36d",
   "metadata": {},
   "outputs": [],
   "source": [
    "from gtts import gTTS"
   ]
  },
  {
   "cell_type": "code",
   "execution_count": 6,
   "id": "823c5275",
   "metadata": {},
   "outputs": [
    {
     "name": "stdout",
     "output_type": "stream",
     "text": [
      "Enter your paragraph here: \n",
      ">The announcement on social media by Urban Development Minister Hardeep Puri, of the Modi government’s decision to house about 1,100 Rohingya migrants now living in makeshift slums, in flats with amenities instead, proved “too good to be true”. Within hours, Mr. Puri was countered by the Home Minister’s Office, which denied any such intention, instead terming them “illegal foreigners”. It said the plan was to keep them sequestered in their present homes, which would be designated as detention centres while the Government continued efforts to deport them to Myanmar. The announcement itself was puzzling. Mr. Puri is a senior Minister and an experienced diplomat, and his statement was unequivocal. Not only did he say that the plan was to move the migrants from squalor to apartments built for the Economically Weaker Sections on the outskirts of Delhi, but that they would also be provided facilities and protection by the Delhi police — proof of how India had always welcomed refugees. The details Mr. Puri shared, as well as documents from 2021, showed that the Government had indeed been considering moving the Rohingya, who live on land donated by an Islamic charity, after their previous homes were burnt down. There has been some suggestion that the ruling party faced backlash from its supporters, including a stern press statement from the Vishva Hindu Parishad, and it would be unfortunate if that was the principle behind what appears to be a reversal of policy.\n"
     ]
    }
   ],
   "source": [
    "paragraph = input(\"Enter your paragraph here: \\n>\")"
   ]
  },
  {
   "cell_type": "code",
   "execution_count": 7,
   "id": "c6cb6f8a",
   "metadata": {},
   "outputs": [],
   "source": [
    "sentence = gTTS(text=paragraph, lang='en', slow=False)"
   ]
  },
  {
   "cell_type": "code",
   "execution_count": 8,
   "id": "0e55bd38",
   "metadata": {},
   "outputs": [],
   "source": [
    "sentence.save('english.mp3')"
   ]
  },
  {
   "cell_type": "code",
   "execution_count": null,
   "id": "fc608275",
   "metadata": {},
   "outputs": [],
   "source": []
  }
 ],
 "metadata": {
  "kernelspec": {
   "display_name": "Python 3 (ipykernel)",
   "language": "python",
   "name": "python3"
  },
  "language_info": {
   "codemirror_mode": {
    "name": "ipython",
    "version": 3
   },
   "file_extension": ".py",
   "mimetype": "text/x-python",
   "name": "python",
   "nbconvert_exporter": "python",
   "pygments_lexer": "ipython3",
   "version": "3.9.7"
  }
 },
 "nbformat": 4,
 "nbformat_minor": 5
}
