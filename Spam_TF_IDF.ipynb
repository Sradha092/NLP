{
 "cells": [
  {
   "cell_type": "code",
   "execution_count": 1,
   "id": "4ac219e6",
   "metadata": {},
   "outputs": [],
   "source": [
    "import nltk"
   ]
  },
  {
   "cell_type": "code",
   "execution_count": 2,
   "id": "4d7ab569",
   "metadata": {},
   "outputs": [],
   "source": [
    "my_sentence = \"Is India really ahead of the West in terms of reproductive rights? Contrary to the grandstanding since the overturning of the landmark Roe V. Wade judgment, the truth is, no. Bodily autonomy and reproductive rights must be viewed from three lenses — legal, medical, and social. Only when women and non-binary pregnant people enjoy absolute autonomy over their own bodies by these parameters, can one claim that India is showing the way to the West.First, the legal standpoint: The Medical Termination of Pregnancy (Amendment) Act 2021 is far from ideal and has been criticised for not taking a rights-based approach. It doesn’t give the pregnant person complete autonomy in ending the pregnancy, instead making them go through various systemic barriers. Additionally, it uses the word “woman”, thereby leaving out pregnant transgender and non-binary persons who are biologically capable of bearing children. It forces them to identify themselves in the gender-binary ignoring their gender identity.According to the Act, a pregnancy can be terminated on the following conditions: Grave danger to the physical/mental health of the pregnant woman; foetal abnormalities; rape/coercion; and contraceptive failure. A woman’s right to choose to end the pregnancy even in the first few weeks is still not recognised in India. In fact, the final decision falls not on the pregnant person, but on registered medical practitioners (RMP). Depending on the gestational period, one/two RMPs or a medical board decide “in good faith” that the pregnancy can be terminated. The constitution of a medical board, a requirement by the Act, is considered a barrier by the World Health Organisation. It stands no reason that a medical board, insulated from any impact of pregnancy, should be able to veto a person’s right to access abortion.\""
   ]
  },
  {
   "cell_type": "code",
   "execution_count": 3,
   "id": "6f0da465",
   "metadata": {},
   "outputs": [
    {
     "data": {
      "text/plain": [
       "'Is India really ahead of the West in terms of reproductive rights? Contrary to the grandstanding since the overturning of the landmark Roe V. Wade judgment, the truth is, no. Bodily autonomy and reproductive rights must be viewed from three lenses — legal, medical, and social. Only when women and non-binary pregnant people enjoy absolute autonomy over their own bodies by these parameters, can one claim that India is showing the way to the West.First, the legal standpoint: The Medical Termination of Pregnancy (Amendment) Act 2021 is far from ideal and has been criticised for not taking a rights-based approach. It doesn’t give the pregnant person complete autonomy in ending the pregnancy, instead making them go through various systemic barriers. Additionally, it uses the word “woman”, thereby leaving out pregnant transgender and non-binary persons who are biologically capable of bearing children. It forces them to identify themselves in the gender-binary ignoring their gender identity.According to the Act, a pregnancy can be terminated on the following conditions: Grave danger to the physical/mental health of the pregnant woman; foetal abnormalities; rape/coercion; and contraceptive failure. A woman’s right to choose to end the pregnancy even in the first few weeks is still not recognised in India. In fact, the final decision falls not on the pregnant person, but on registered medical practitioners (RMP). Depending on the gestational period, one/two RMPs or a medical board decide “in good faith” that the pregnancy can be terminated. The constitution of a medical board, a requirement by the Act, is considered a barrier by the World Health Organisation. It stands no reason that a medical board, insulated from any impact of pregnancy, should be able to veto a person’s right to access abortion.'"
      ]
     },
     "execution_count": 3,
     "metadata": {},
     "output_type": "execute_result"
    }
   ],
   "source": [
    "my_sentence"
   ]
  },
  {
   "cell_type": "code",
   "execution_count": 4,
   "id": "0d7a8dc9",
   "metadata": {},
   "outputs": [],
   "source": [
    "import re   #Regular Expression\n",
    "from nltk.corpus import stopwords  #stop words\n",
    "from nltk.stem.porter import PorterStemmer #Stemming\n",
    "from nltk.stem import WordNetLemmatizer #Lemmatization"
   ]
  },
  {
   "cell_type": "code",
   "execution_count": 5,
   "id": "549845bc",
   "metadata": {},
   "outputs": [],
   "source": [
    "ps = PorterStemmer()\n",
    "wordnet = WordNetLemmatizer()"
   ]
  },
  {
   "cell_type": "code",
   "execution_count": 6,
   "id": "88c0cce2",
   "metadata": {},
   "outputs": [],
   "source": [
    "sentence = nltk.sent_tokenize(my_sentence)"
   ]
  },
  {
   "cell_type": "code",
   "execution_count": 7,
   "id": "a0fd1346",
   "metadata": {},
   "outputs": [
    {
     "data": {
      "text/plain": [
       "['Is India really ahead of the West in terms of reproductive rights?',\n",
       " 'Contrary to the grandstanding since the overturning of the landmark Roe V. Wade judgment, the truth is, no.',\n",
       " 'Bodily autonomy and reproductive rights must be viewed from three lenses — legal, medical, and social.',\n",
       " 'Only when women and non-binary pregnant people enjoy absolute autonomy over their own bodies by these parameters, can one claim that India is showing the way to the West.First, the legal standpoint: The Medical Termination of Pregnancy (Amendment) Act 2021 is far from ideal and has been criticised for not taking a rights-based approach.',\n",
       " 'It doesn’t give the pregnant person complete autonomy in ending the pregnancy, instead making them go through various systemic barriers.',\n",
       " 'Additionally, it uses the word “woman”, thereby leaving out pregnant transgender and non-binary persons who are biologically capable of bearing children.',\n",
       " 'It forces them to identify themselves in the gender-binary ignoring their gender identity.According to the Act, a pregnancy can be terminated on the following conditions: Grave danger to the physical/mental health of the pregnant woman; foetal abnormalities; rape/coercion; and contraceptive failure.',\n",
       " 'A woman’s right to choose to end the pregnancy even in the first few weeks is still not recognised in India.',\n",
       " 'In fact, the final decision falls not on the pregnant person, but on registered medical practitioners (RMP).',\n",
       " 'Depending on the gestational period, one/two RMPs or a medical board decide “in good faith” that the pregnancy can be terminated.',\n",
       " 'The constitution of a medical board, a requirement by the Act, is considered a barrier by the World Health Organisation.',\n",
       " 'It stands no reason that a medical board, insulated from any impact of pregnancy, should be able to veto a person’s right to access abortion.']"
      ]
     },
     "execution_count": 7,
     "metadata": {},
     "output_type": "execute_result"
    }
   ],
   "source": [
    "sentence"
   ]
  },
  {
   "cell_type": "code",
   "execution_count": 8,
   "id": "9f51bff6",
   "metadata": {},
   "outputs": [],
   "source": [
    "corpus = []\n",
    "\n",
    "for i in range(len(sentence)):\n",
    "    review = re.sub('[^a-zA-Z]',' ',sentence[i])\n",
    "    review = review.lower()\n",
    "    review = review.split()\n",
    "    review = [wordnet.lemmatize(word) for word in review if not word in set(stopwords.words('english'))]\n",
    "    review = ' '.join(review)\n",
    "    corpus.append(review)"
   ]
  },
  {
   "cell_type": "code",
   "execution_count": 9,
   "id": "0e1f5248",
   "metadata": {},
   "outputs": [
    {
     "data": {
      "text/plain": [
       "['india really ahead west term reproductive right',\n",
       " 'contrary grandstanding since overturning landmark roe v wade judgment truth',\n",
       " 'bodily autonomy reproductive right must viewed three lens legal medical social',\n",
       " 'woman non binary pregnant people enjoy absolute autonomy body parameter one claim india showing way west first legal standpoint medical termination pregnancy amendment act far ideal criticised taking right based approach',\n",
       " 'give pregnant person complete autonomy ending pregnancy instead making go various systemic barrier',\n",
       " 'additionally us word woman thereby leaving pregnant transgender non binary person biologically capable bearing child',\n",
       " 'force identify gender binary ignoring gender identity according act pregnancy terminated following condition grave danger physical mental health pregnant woman foetal abnormality rape coercion contraceptive failure',\n",
       " 'woman right choose end pregnancy even first week still recognised india',\n",
       " 'fact final decision fall pregnant person registered medical practitioner rmp',\n",
       " 'depending gestational period one two rmps medical board decide good faith pregnancy terminated',\n",
       " 'constitution medical board requirement act considered barrier world health organisation',\n",
       " 'stand reason medical board insulated impact pregnancy able veto person right access abortion']"
      ]
     },
     "execution_count": 9,
     "metadata": {},
     "output_type": "execute_result"
    }
   ],
   "source": [
    "corpus"
   ]
  },
  {
   "cell_type": "code",
   "execution_count": 10,
   "id": "af924087",
   "metadata": {},
   "outputs": [],
   "source": [
    " # Difference between stemming and Lemmatization\n",
    "    \n",
    "# part 1 - algo -  PorterStemmer\n",
    "from nltk.stem.porter import PorterStemmer\n",
    "\n",
    "# part 2 - algo -  snowballstemmer\n",
    "\n",
    "from nltk.stem.snowball import SnowballStemmer #******\n",
    "\n",
    "# Note : there is no concept called stemming in SPACY package. Spacy is only used for lemmitization"
   ]
  },
  {
   "cell_type": "code",
   "execution_count": 13,
   "id": "161848a1",
   "metadata": {},
   "outputs": [],
   "source": [
    "words = ['run','runner','running', 'ran', 'runs','easily','fairly']"
   ]
  },
  {
   "cell_type": "code",
   "execution_count": 14,
   "id": "e4099409",
   "metadata": {},
   "outputs": [],
   "source": [
    "p_stemmer = PorterStemmer()\n",
    "s_stemmer = SnowballStemmer(language='english')"
   ]
  },
  {
   "cell_type": "code",
   "execution_count": 15,
   "id": "98f3d7b6",
   "metadata": {},
   "outputs": [
    {
     "name": "stdout",
     "output_type": "stream",
     "text": [
      "run-------------run\n",
      "runner-------------runner\n",
      "running-------------run\n",
      "ran-------------ran\n",
      "runs-------------run\n",
      "easily-------------easili\n",
      "fairly-------------fairli\n"
     ]
    }
   ],
   "source": [
    "for word in words:\n",
    "    print(word + '-------------' + p_stemmer.stem(word))"
   ]
  },
  {
   "cell_type": "code",
   "execution_count": 16,
   "id": "ce8e5231",
   "metadata": {},
   "outputs": [
    {
     "name": "stdout",
     "output_type": "stream",
     "text": [
      "run-------------run\n",
      "runner-------------runner\n",
      "running-------------run\n",
      "ran-------------ran\n",
      "runs-------------run\n",
      "easily-------------easili\n",
      "fairly-------------fair\n"
     ]
    }
   ],
   "source": [
    "for word in words:\n",
    "    print(word + '-------------' + s_stemmer.stem(word))"
   ]
  },
  {
   "cell_type": "code",
   "execution_count": 17,
   "id": "b3669e85",
   "metadata": {},
   "outputs": [],
   "source": [
    "# Snowball stemmer comparatively gives more meaningful words than porter stemmer"
   ]
  },
  {
   "cell_type": "code",
   "execution_count": 19,
   "id": "7e632b71",
   "metadata": {},
   "outputs": [
    {
     "name": "stdout",
     "output_type": "stream",
     "text": [
      "run-------------run\n",
      "runner-------------runner\n",
      "running-------------running\n",
      "ran-------------ran\n",
      "runs-------------run\n",
      "easily-------------easily\n",
      "fairly-------------fairly\n"
     ]
    }
   ],
   "source": [
    "for word in words:\n",
    "    print(word + '-------------' + wordnet.lemmatize(word))"
   ]
  },
  {
   "cell_type": "markdown",
   "id": "7f7c54a7",
   "metadata": {},
   "source": [
    "# TF_IDF Model"
   ]
  },
  {
   "cell_type": "code",
   "execution_count": 21,
   "id": "539d5df9",
   "metadata": {},
   "outputs": [],
   "source": [
    "from sklearn.feature_extraction.text import TfidfVectorizer\n",
    "tfidf_model = TfidfVectorizer()\n",
    "my_word = tfidf_model.fit_transform(corpus).toarray()"
   ]
  },
  {
   "cell_type": "code",
   "execution_count": 22,
   "id": "77b23f96",
   "metadata": {},
   "outputs": [
    {
     "data": {
      "text/plain": [
       "array([[0.        , 0.        , 0.        , ..., 0.        , 0.        ,\n",
       "        0.        ],\n",
       "       [0.        , 0.        , 0.        , ..., 0.        , 0.        ,\n",
       "        0.        ],\n",
       "       [0.        , 0.        , 0.        , ..., 0.        , 0.        ,\n",
       "        0.        ],\n",
       "       ...,\n",
       "       [0.        , 0.        , 0.        , ..., 0.        , 0.        ,\n",
       "        0.        ],\n",
       "       [0.        , 0.        , 0.        , ..., 0.        , 0.        ,\n",
       "        0.35479708],\n",
       "       [0.31534413, 0.        , 0.31534413, ..., 0.        , 0.        ,\n",
       "        0.        ]])"
      ]
     },
     "execution_count": 22,
     "metadata": {},
     "output_type": "execute_result"
    }
   ],
   "source": [
    "my_word"
   ]
  },
  {
   "cell_type": "code",
   "execution_count": null,
   "id": "5c34f42f",
   "metadata": {},
   "outputs": [],
   "source": []
  }
 ],
 "metadata": {
  "kernelspec": {
   "display_name": "Python 3 (ipykernel)",
   "language": "python",
   "name": "python3"
  },
  "language_info": {
   "codemirror_mode": {
    "name": "ipython",
    "version": 3
   },
   "file_extension": ".py",
   "mimetype": "text/x-python",
   "name": "python",
   "nbconvert_exporter": "python",
   "pygments_lexer": "ipython3",
   "version": "3.9.7"
  }
 },
 "nbformat": 4,
 "nbformat_minor": 5
}
